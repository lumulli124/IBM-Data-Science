{
 "cells": [
  {
   "cell_type": "markdown",
   "id": "60b71e39-59c8-493f-894d-2f7705c7703a",
   "metadata": {},
   "source": [
    "# Data Science Tools and Ecosystem"
   ]
  },
  {
   "cell_type": "markdown",
   "id": "9ae4d393-6c4f-44f9-9d18-bab0b32847bb",
   "metadata": {},
   "source": [
    "In this notebook, Data Science Tools and Ecosystem are summarized."
   ]
  },
  {
   "cell_type": "markdown",
   "id": "5fb7085a-3c04-45c9-b1d1-e2257bc61009",
   "metadata": {},
   "source": [
    "**Objectives:**\n",
    "- Data science lanuges and tools\n",
    "- arithatic examples\n",
    "- strategies converting minutes to hours "
   ]
  },
  {
   "cell_type": "markdown",
   "id": "835f4fb2-027d-4de3-8445-e74f1b147028",
   "metadata": {},
   "source": [
    "Here's some data science languages: Python, R, SQL"
   ]
  },
  {
   "cell_type": "code",
   "execution_count": 1,
   "id": "b1556926-1268-4a64-b969-f6ca9d2bc8b7",
   "metadata": {},
   "outputs": [
    {
     "data": {
      "text/plain": [
       "list"
      ]
     },
     "execution_count": 1,
     "metadata": {},
     "output_type": "execute_result"
    }
   ],
   "source": [
    "dslanguages = ['Python','SQL','JSON','R']\n",
    "type(dslanguages)"
   ]
  },
  {
   "cell_type": "markdown",
   "id": "1b04e25f-9de7-415f-900e-e6fff3d39de6",
   "metadata": {},
   "source": [
    "sorted(dslanguages)"
   ]
  },
  {
   "cell_type": "markdown",
   "id": "05944299-b583-4ea9-82ba-5b12474e61bc",
   "metadata": {},
   "source": [
    "Some of the commonly used libraries used by Data Scientists include:"
   ]
  },
  {
   "cell_type": "code",
   "execution_count": 2,
   "id": "8b8adf63-0eaf-4c85-8e7f-c78dca134ea7",
   "metadata": {},
   "outputs": [
    {
     "data": {
      "text/plain": [
       "list"
      ]
     },
     "execution_count": 2,
     "metadata": {},
     "output_type": "execute_result"
    }
   ],
   "source": [
    "dslibraries = ['Pandas', 'Matplotlib', 'NumPy','PyTorch','scikit-learn']\n",
    "type(dslibraries)"
   ]
  },
  {
   "cell_type": "code",
   "execution_count": 3,
   "id": "120770fc-4ec6-4367-9a15-1853e76cef5d",
   "metadata": {},
   "outputs": [
    {
     "data": {
      "text/plain": [
       "['Matplotlib', 'NumPy', 'Pandas', 'PyTorch', 'scikit-learn']"
      ]
     },
     "execution_count": 3,
     "metadata": {},
     "output_type": "execute_result"
    }
   ],
   "source": [
    "sorted(dslibraries)"
   ]
  },
  {
   "cell_type": "markdown",
   "id": "de18e56a-4760-4436-b2ce-4d950d51f2b8",
   "metadata": {},
   "source": [
    "# Data Science Tools"
   ]
  },
  {
   "cell_type": "code",
   "execution_count": 4,
   "id": "2c9a9d72-a7e2-4c7f-a96e-374c39fd48df",
   "metadata": {},
   "outputs": [
    {
     "data": {
      "text/plain": [
       "pandas.core.frame.DataFrame"
      ]
     },
     "execution_count": 4,
     "metadata": {},
     "output_type": "execute_result"
    }
   ],
   "source": [
    "import pandas as pd\n",
    "import numpy as np\n",
    "\n",
    "dstools = ['GitHub','RStudio','Jupyter Notebooks']\n",
    "df = pd.DataFrame(sorted(dstools),columns=['Data Science Tools'])\n",
    "type(df)"
   ]
  },
  {
   "cell_type": "code",
   "execution_count": 5,
   "id": "b4cac082-8d42-4455-8a67-5f1114ae66af",
   "metadata": {},
   "outputs": [
    {
     "data": {
      "text/html": [
       "<div>\n",
       "<style scoped>\n",
       "    .dataframe tbody tr th:only-of-type {\n",
       "        vertical-align: middle;\n",
       "    }\n",
       "\n",
       "    .dataframe tbody tr th {\n",
       "        vertical-align: top;\n",
       "    }\n",
       "\n",
       "    .dataframe thead th {\n",
       "        text-align: right;\n",
       "    }\n",
       "</style>\n",
       "<table border=\"1\" class=\"dataframe\">\n",
       "  <thead>\n",
       "    <tr style=\"text-align: right;\">\n",
       "      <th></th>\n",
       "      <th>Data Science Tools</th>\n",
       "    </tr>\n",
       "  </thead>\n",
       "  <tbody>\n",
       "    <tr>\n",
       "      <th>0</th>\n",
       "      <td>GitHub</td>\n",
       "    </tr>\n",
       "    <tr>\n",
       "      <th>1</th>\n",
       "      <td>Jupyter Notebooks</td>\n",
       "    </tr>\n",
       "    <tr>\n",
       "      <th>2</th>\n",
       "      <td>RStudio</td>\n",
       "    </tr>\n",
       "  </tbody>\n",
       "</table>\n",
       "</div>"
      ],
      "text/plain": [
       "  Data Science Tools\n",
       "0             GitHub\n",
       "1  Jupyter Notebooks\n",
       "2            RStudio"
      ]
     },
     "execution_count": 5,
     "metadata": {},
     "output_type": "execute_result"
    }
   ],
   "source": [
    "df"
   ]
  },
  {
   "cell_type": "markdown",
   "id": "380f3aac-abd8-4be4-aa64-8e9c5214ba62",
   "metadata": {},
   "source": [
    "### Now, let's take a look at a few strategies for python notebooks like arithemtic"
   ]
  },
  {
   "cell_type": "code",
   "execution_count": 6,
   "id": "db101670-479f-4667-92cf-1ec85080691e",
   "metadata": {},
   "outputs": [
    {
     "data": {
      "text/plain": [
       "17"
      ]
     },
     "execution_count": 6,
     "metadata": {},
     "output_type": "execute_result"
    }
   ],
   "source": [
    "(3*4)+5 # We're just multiplying 3 by 4 and then adding 5"
   ]
  },
  {
   "cell_type": "code",
   "execution_count": 7,
   "id": "c5246073-95d7-47cc-8f4a-f4b08dd085e3",
   "metadata": {},
   "outputs": [
    {
     "data": {
      "text/plain": [
       "96"
      ]
     },
     "execution_count": 7,
     "metadata": {},
     "output_type": "execute_result"
    }
   ],
   "source": [
    "8*12"
   ]
  },
  {
   "cell_type": "code",
   "execution_count": 8,
   "id": "90a26b18-0fdc-4132-b063-26dd8fea060a",
   "metadata": {},
   "outputs": [
    {
     "name": "stdout",
     "output_type": "stream",
     "text": [
      "200 minutes is equal to 3 hours and 20 minutes.\n"
     ]
    }
   ],
   "source": [
    "def minutes_to_hours(minutes): # setting up a definition that will improve flexilbility for future use\n",
    "    hours = minutes // 60  # Calculate full hours\n",
    "    remaining_minutes = minutes % 60  # Calculate remaining minutes\n",
    "    return hours, remaining_minutes\n",
    "\n",
    "# Example usage\n",
    "minutes = 200\n",
    "hours, remaining_minutes = minutes_to_hours(minutes) # calling the defintion to determine the hours and minutes\n",
    "print(f\"{minutes} minutes is equal to {hours} hours and {remaining_minutes} minutes.\")"
   ]
  },
  {
   "cell_type": "markdown",
   "id": "5101c0b1-88fe-4852-9fcd-0a755a70e7c9",
   "metadata": {},
   "source": [
    "## Author"
   ]
  },
  {
   "cell_type": "markdown",
   "id": "b0133ce2-66c9-4a9f-96b9-d1a777f7ecd7",
   "metadata": {},
   "source": [
    "[Lucas M](https://www.linkedin.com/in/lmullins05/)"
   ]
  },
  {
   "cell_type": "code",
   "execution_count": null,
   "id": "7a804741-117a-483e-844d-57df7562d258",
   "metadata": {},
   "outputs": [],
   "source": []
  }
 ],
 "metadata": {
  "kernelspec": {
   "display_name": "Python 3 (ipykernel)",
   "language": "python",
   "name": "python3"
  },
  "language_info": {
   "codemirror_mode": {
    "name": "ipython",
    "version": 3
   },
   "file_extension": ".py",
   "mimetype": "text/x-python",
   "name": "python",
   "nbconvert_exporter": "python",
   "pygments_lexer": "ipython3",
   "version": "3.11.5"
  }
 },
 "nbformat": 4,
 "nbformat_minor": 5
}
